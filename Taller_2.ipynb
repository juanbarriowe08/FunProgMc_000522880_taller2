{
  "nbformat": 4,
  "nbformat_minor": 0,
  "metadata": {
    "colab": {
      "provenance": [],
      "authorship_tag": "ABX9TyMIbmUVVRIJu9gZFhFUlAyO",
      "include_colab_link": true
    },
    "kernelspec": {
      "name": "python3",
      "display_name": "Python 3"
    },
    "language_info": {
      "name": "python"
    }
  },
  "cells": [
    {
      "cell_type": "markdown",
      "metadata": {
        "id": "view-in-github",
        "colab_type": "text"
      },
      "source": [
        "<a href=\"https://colab.research.google.com/github/juanbarriowe08/FunProgMc_000522880_taller2/blob/main/Taller_2.ipynb\" target=\"_parent\"><img src=\"https://colab.research.google.com/assets/colab-badge.svg\" alt=\"Open In Colab\"/></a>"
      ]
    },
    {
      "cell_type": "markdown",
      "source": [
        "#solucion taller 2"
      ],
      "metadata": {
        "id": "mOBG8zegF2bx"
      }
    },
    {
      "cell_type": "markdown",
      "source": [
        "fundamento de programacion-ingenieria mecanica UPB 202310"
      ],
      "metadata": {
        "id": "UAPY8OLIF6_k"
      }
    },
    {
      "cell_type": "markdown",
      "source": [
        "Juan pablo barios villalba\n",
        "\n",
        "000522880\n",
        "\n",
        "juan.barriosv@upn.edu.co"
      ],
      "metadata": {
        "id": "K1W4oO1lGwOW"
      }
    },
    {
      "cell_type": "markdown",
      "source": [
        "problema 1 \n",
        "\n",
        "Calcular y mostrar la posición de una partícula que experimenta movimiento uniformemente \n",
        "acelerado a partir de su posición inicial (𝑥0), velocidad inicial (𝑣0) y aceleración (𝑎) en dos instantes de \n",
        "tiempo diferentes. L"
      ],
      "metadata": {
        "id": "sIeKTRDyHjZq"
      }
    },
    {
      "cell_type": "code",
      "source": [
        "# tiempo \n",
        "t_1 = 3\n",
        "\n",
        "t_2 = 10 \n",
        " #posicion inicial\n",
        "\n",
        "x_0 = 5\n",
        "\n",
        "#velocidad inicial\n",
        "\n",
        "v_0 = 4\n",
        "\n",
        "#aceleracion \n",
        "\n",
        "a = -2\n",
        "\n",
        "c = 1/2\n",
        "\n",
        "x_1 = x_0 + v_0*t_1 + c*a*t_1**2\n",
        "print(x_1)\n",
        "\n",
        "x_2 = x_0 + v_0*t_2 + c*a*t_2**2\n",
        "print(x_2)\n",
        "\n",
        "\n"
      ],
      "metadata": {
        "colab": {
          "base_uri": "https://localhost:8080/"
        },
        "id": "3v1UlTg0Htp4",
        "outputId": "0ab2ff50-95d8-4d61-9bbe-b932e2f5a92f"
      },
      "execution_count": 12,
      "outputs": [
        {
          "output_type": "stream",
          "name": "stdout",
          "text": [
            "8.0\n",
            "-55.0\n"
          ]
        }
      ]
    },
    {
      "cell_type": "markdown",
      "source": [
        "problema 2 \n",
        "\n",
        "Calcular y mostrar la distancia entre dos puntos 𝑃1 y 𝑃2 ubicados en las coordenadas (𝑥1, 𝑦1\n",
        ") y \n",
        "(𝑥2, 𝑦2\n",
        ")."
      ],
      "metadata": {
        "id": "jYtN7A3bKuRz"
      }
    },
    {
      "cell_type": "code",
      "source": [
        "# distancia 1\n",
        "x_1 = 1\n",
        "x_2 = -1\n",
        "y_1 = 1\n",
        "y_2 = -1\n",
        "\n",
        "d_1 = (x_2 - x_1)**2 + (y_2 - y_1)**2 ** 0.5\n",
        "print(d_1)\n",
        "\n",
        "# distancia 2\n",
        "\n",
        "x_1 = -2\n",
        "x_2 = 4\n",
        "y_1 = 0\n",
        "y_2 = 5\n",
        "\n",
        "d_2 = (x_2 - x_1)**2 + (y_2 - y_1)**2 ** 0.5\n",
        "print(d_2)"
      ],
      "metadata": {
        "colab": {
          "base_uri": "https://localhost:8080/"
        },
        "id": "cBTHLrW1K6pR",
        "outputId": "b42b5784-b719-498f-ce06-e4c936588ce4"
      },
      "execution_count": 13,
      "outputs": [
        {
          "output_type": "stream",
          "name": "stdout",
          "text": [
            "(3.2903911346983388-2.568939189549123j)\n",
            "45.73851774233542\n"
          ]
        }
      ]
    },
    {
      "cell_type": "markdown",
      "source": [
        "problema 3\n",
        "\n",
        "Imprime el resultado de las siguientes operaciones lógicas:\n"
      ],
      "metadata": {
        "id": "fUguzgvVLs9v"
      }
    },
    {
      "cell_type": "code",
      "source": [
        "A = -3\n",
        "B = 3\n",
        "C = 4\n",
        "D = 0\n",
        "\n",
        "print(A < B)\n",
        "\n",
        "print(B <= C)\n",
        "\n",
        "print((A == B) and (B > C))\n",
        "                   \n",
        "print((A < C) or (B < C))\n",
        "\n",
        "print(C != B)\n",
        "\n",
        "print((A + D) < C)\n",
        "      \n",
        "print((D - C) >= (-A * B))\n",
        "\n",
        "print(((D * C)== 5) or ((C * A)> 9))\n",
        "\n",
        "print((A * B + C)> (- D * 10))\n",
        "\n",
        "print((4 * B) == (C * 3))"
      ],
      "metadata": {
        "colab": {
          "base_uri": "https://localhost:8080/"
        },
        "id": "IDuQvq7aL3l2",
        "outputId": "6223e521-b8d6-4e00-ec2d-83717d1e2a68"
      },
      "execution_count": 14,
      "outputs": [
        {
          "output_type": "stream",
          "name": "stdout",
          "text": [
            "True\n",
            "True\n",
            "False\n",
            "True\n",
            "True\n",
            "True\n",
            "False\n",
            "False\n",
            "False\n",
            "True\n"
          ]
        }
      ]
    },
    {
      "cell_type": "code",
      "source": [],
      "metadata": {
        "id": "P_fxEp-2MH19"
      },
      "execution_count": null,
      "outputs": []
    }
  ]
}